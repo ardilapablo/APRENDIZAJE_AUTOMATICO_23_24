{
  "cells": [
    {
      "cell_type": "markdown",
      "source": [],
      "metadata": {
        "id": "dXWrBafGCMc6"
      }
    },
    {
      "cell_type": "code",
      "source": [
        "# 👉 PASO 1: Montar Google Drive\n",
        "from google.colab import drive\n",
        "import pandas as pd\n",
        "\n",
        "drive.mount('/content/drive')\n",
        "\n",
        "# 👉 PASO 2: Cargar el archivo original\n",
        "file_path = '/content/drive/MyDrive/JUGADORES/df_cleaned.xlsx'\n",
        "df = pd.read_excel(file_path)\n",
        "\n",
        "# 👉 PASO 3: Crear índice por temporada jugada (TempIndex)\n",
        "df['TempIndex'] = df.groupby('Jugador').cumcount() + 1\n",
        "\n",
        "# 👉 PASO 4: Seleccionar columnas a pivotar (todas menos identificador e índice)\n",
        "cols_to_pivot = [col for col in df.columns if col not in ['Jugador', 'TempIndex']]\n",
        "\n",
        "# 👉 PASO 5: Crear columnas nuevas por temporada para cada variable\n",
        "pivoted_dfs = []\n",
        "for col in cols_to_pivot:\n",
        "    temp = df.pivot(index='Jugador', columns='TempIndex', values=col)\n",
        "    temp.columns = [f\"{col}_Temp{c}\" for c in temp.columns]\n",
        "    pivoted_dfs.append(temp)\n",
        "\n",
        "# 👉 PASO 6: Unir todos los bloques pivotados en un solo DataFrame\n",
        "df_wide = pd.concat(pivoted_dfs, axis=1).reset_index()\n",
        "\n",
        "# 👉 PASO 7: Guardar como Excel en la carpeta 'JUGADORES'\n",
        "output_path = '/content/drive/MyDrive/JUGADORES/df_reestructurado_por_jugador.xlsx'\n",
        "df_wide.to_excel(output_path, index=False)\n",
        "\n",
        "print(f\"✅ Archivo guardado como: {output_path}\")\n"
      ],
      "metadata": {
        "id": "dpzND_FjCM8p",
        "outputId": "c6ff7a88-9fbf-44df-df64-b99246edf260",
        "colab": {
          "base_uri": "https://localhost:8080/"
        }
      },
      "execution_count": 3,
      "outputs": [
        {
          "output_type": "stream",
          "name": "stdout",
          "text": [
            "Drive already mounted at /content/drive; to attempt to forcibly remount, call drive.mount(\"/content/drive\", force_remount=True).\n",
            "✅ Archivo guardado como: /content/drive/MyDrive/JUGADORES/df_reestructurado_por_jugador.xlsx\n"
          ]
        }
      ]
    }
  ],
  "metadata": {
    "kernelspec": {
      "display_name": "Python 3",
      "language": "python",
      "name": "python3"
    },
    "language_info": {
      "codemirror_mode": {
        "name": "ipython",
        "version": 3
      },
      "file_extension": ".py",
      "mimetype": "text/x-python",
      "name": "python",
      "nbconvert_exporter": "python",
      "pygments_lexer": "ipython3",
      "version": "3.9.2-final"
    },
    "colab": {
      "provenance": []
    }
  },
  "nbformat": 4,
  "nbformat_minor": 0
}